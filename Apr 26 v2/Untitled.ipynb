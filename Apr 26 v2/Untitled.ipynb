{
 "cells": [
  {
   "cell_type": "code",
   "execution_count": 16,
   "metadata": {},
   "outputs": [],
   "source": [
    "import pandas as pd\n",
    "csvread= pd.read_csv('RT-ep1.csv',header=None)"
   ]
  },
  {
   "cell_type": "code",
   "execution_count": 21,
   "metadata": {},
   "outputs": [
    {
     "data": {
      "text/html": [
       "<div>\n",
       "<style scoped>\n",
       "    .dataframe tbody tr th:only-of-type {\n",
       "        vertical-align: middle;\n",
       "    }\n",
       "\n",
       "    .dataframe tbody tr th {\n",
       "        vertical-align: top;\n",
       "    }\n",
       "\n",
       "    .dataframe thead th {\n",
       "        text-align: right;\n",
       "    }\n",
       "</style>\n",
       "<table border=\"1\" class=\"dataframe\">\n",
       "  <thead>\n",
       "    <tr style=\"text-align: right;\">\n",
       "      <th></th>\n",
       "      <th>0</th>\n",
       "      <th>1</th>\n",
       "    </tr>\n",
       "  </thead>\n",
       "  <tbody>\n",
       "    <tr>\n",
       "      <th>0</th>\n",
       "      <td>انطلقوا باتجاه 7.25 شمالاً .</td>\n",
       "      <td>Seven twenty-five north.</td>\n",
       "    </tr>\n",
       "    <tr>\n",
       "      <th>1</th>\n",
       "      <td>لنذهب ، يجب أن نخمد الحريق، يا رجال نحتاج لتلك...</td>\n",
       "      <td>Let’s go.  We’ve got to put out a house fire. ...</td>\n",
       "    </tr>\n",
       "    <tr>\n",
       "      <th>2</th>\n",
       "      <td>انطلقوا باتجاه 7.25 شمالاً .</td>\n",
       "      <td>Seven twenty-five north.</td>\n",
       "    </tr>\n",
       "    <tr>\n",
       "      <th>3</th>\n",
       "      <td>عندما وصلنا رأينا ألعاباً في الخارج لذا بدأنا ...</td>\n",
       "      <td>Let’s go.  We’ve got to put out a house fire. ...</td>\n",
       "    </tr>\n",
       "    <tr>\n",
       "      <th>4</th>\n",
       "      <td>يبذل الإطفائيّون كلّ جهدهم، تمتدّ النيران بسرع...</td>\n",
       "      <td>Seven twenty-five north.Let’s go.  We’ve got t...</td>\n",
       "    </tr>\n",
       "  </tbody>\n",
       "</table>\n",
       "</div>"
      ],
      "text/plain": [
       "                                                   0  \\\n",
       "0                       انطلقوا باتجاه 7.25 شمالاً .   \n",
       "1  لنذهب ، يجب أن نخمد الحريق، يا رجال نحتاج لتلك...   \n",
       "2                       انطلقوا باتجاه 7.25 شمالاً .   \n",
       "3  عندما وصلنا رأينا ألعاباً في الخارج لذا بدأنا ...   \n",
       "4  يبذل الإطفائيّون كلّ جهدهم، تمتدّ النيران بسرع...   \n",
       "\n",
       "                                                   1  \n",
       "0                           Seven twenty-five north.  \n",
       "1  Let’s go.  We’ve got to put out a house fire. ...  \n",
       "2                           Seven twenty-five north.  \n",
       "3  Let’s go.  We’ve got to put out a house fire. ...  \n",
       "4  Seven twenty-five north.Let’s go.  We’ve got t...  "
      ]
     },
     "execution_count": 21,
     "metadata": {},
     "output_type": "execute_result"
    }
   ],
   "source": [
    "csvread"
   ]
  },
  {
   "cell_type": "code",
   "execution_count": 28,
   "metadata": {},
   "outputs": [
    {
     "data": {
      "text/plain": [
       "4"
      ]
     },
     "execution_count": 28,
     "metadata": {},
     "output_type": "execute_result"
    }
   ],
   "source": [
    "len(csvread.index)-1"
   ]
  },
  {
   "cell_type": "code",
   "execution_count": 35,
   "metadata": {},
   "outputs": [],
   "source": [
    "csvread[1][len(csvread.index)-1]='fssf'"
   ]
  },
  {
   "cell_type": "code",
   "execution_count": 36,
   "metadata": {},
   "outputs": [
    {
     "data": {
      "text/html": [
       "<div>\n",
       "<style scoped>\n",
       "    .dataframe tbody tr th:only-of-type {\n",
       "        vertical-align: middle;\n",
       "    }\n",
       "\n",
       "    .dataframe tbody tr th {\n",
       "        vertical-align: top;\n",
       "    }\n",
       "\n",
       "    .dataframe thead th {\n",
       "        text-align: right;\n",
       "    }\n",
       "</style>\n",
       "<table border=\"1\" class=\"dataframe\">\n",
       "  <thead>\n",
       "    <tr style=\"text-align: right;\">\n",
       "      <th></th>\n",
       "      <th>0</th>\n",
       "      <th>1</th>\n",
       "    </tr>\n",
       "  </thead>\n",
       "  <tbody>\n",
       "    <tr>\n",
       "      <th>0</th>\n",
       "      <td>انطلقوا باتجاه 7.25 شمالاً .</td>\n",
       "      <td>Seven twenty-five north.</td>\n",
       "    </tr>\n",
       "    <tr>\n",
       "      <th>1</th>\n",
       "      <td>لنذهب ، يجب أن نخمد الحريق، يا رجال نحتاج لتلك...</td>\n",
       "      <td>Let’s go.  We’ve got to put out a house fire. ...</td>\n",
       "    </tr>\n",
       "    <tr>\n",
       "      <th>2</th>\n",
       "      <td>انطلقوا باتجاه 7.25 شمالاً .</td>\n",
       "      <td>Seven twenty-five north.</td>\n",
       "    </tr>\n",
       "    <tr>\n",
       "      <th>3</th>\n",
       "      <td>عندما وصلنا رأينا ألعاباً في الخارج لذا بدأنا ...</td>\n",
       "      <td>Let’s go.  We’ve got to put out a house fire. ...</td>\n",
       "    </tr>\n",
       "    <tr>\n",
       "      <th>4</th>\n",
       "      <td>يبذل الإطفائيّون كلّ جهدهم، تمتدّ النيران بسرع...</td>\n",
       "      <td>fssf</td>\n",
       "    </tr>\n",
       "  </tbody>\n",
       "</table>\n",
       "</div>"
      ],
      "text/plain": [
       "                                                   0  \\\n",
       "0                       انطلقوا باتجاه 7.25 شمالاً .   \n",
       "1  لنذهب ، يجب أن نخمد الحريق، يا رجال نحتاج لتلك...   \n",
       "2                       انطلقوا باتجاه 7.25 شمالاً .   \n",
       "3  عندما وصلنا رأينا ألعاباً في الخارج لذا بدأنا ...   \n",
       "4  يبذل الإطفائيّون كلّ جهدهم، تمتدّ النيران بسرع...   \n",
       "\n",
       "                                                   1  \n",
       "0                           Seven twenty-five north.  \n",
       "1  Let’s go.  We’ve got to put out a house fire. ...  \n",
       "2                           Seven twenty-five north.  \n",
       "3  Let’s go.  We’ve got to put out a house fire. ...  \n",
       "4                                               fssf  "
      ]
     },
     "execution_count": 36,
     "metadata": {},
     "output_type": "execute_result"
    }
   ],
   "source": []
  },
  {
   "cell_type": "code",
   "execution_count": null,
   "metadata": {},
   "outputs": [],
   "source": []
  }
 ],
 "metadata": {
  "kernelspec": {
   "display_name": "Python 3",
   "language": "python",
   "name": "python3"
  },
  "language_info": {
   "codemirror_mode": {
    "name": "ipython",
    "version": 3
   },
   "file_extension": ".py",
   "mimetype": "text/x-python",
   "name": "python",
   "nbconvert_exporter": "python",
   "pygments_lexer": "ipython3",
   "version": "3.8.3"
  }
 },
 "nbformat": 4,
 "nbformat_minor": 4
}
